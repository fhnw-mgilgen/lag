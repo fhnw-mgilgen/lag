{
 "cells": [
  {
   "cell_type": "code",
   "execution_count": 3,
   "metadata": {},
   "outputs": [],
   "source": [
    "import numpy as np\n",
    "import sympy as sp\n",
    "import matplotlib.pyplot as plt"
   ]
  },
  {
   "cell_type": "markdown",
   "metadata": {},
   "source": [
    "# Aufgabe 6\n",
    "$$A = \\begin{pmatrix}\n",
    "2 & 1 & 1 & 1 \\\\\n",
    "160 & 4 & 12 & 1\\\\\n",
    "18 & 3 & -3 & 1\n",
    "\\end{pmatrix}\n",
    "$$"
   ]
  },
  {
   "cell_type": "code",
   "execution_count": 8,
   "metadata": {},
   "outputs": [
    {
     "data": {
      "text/plain": [
       "(Matrix([\n",
       " [1, 0, 0, -17/504],\n",
       " [0, 1, 0, 101/126],\n",
       " [0, 0, 1,  67/252]]),\n",
       " (0, 1, 2))"
      ]
     },
     "execution_count": 8,
     "metadata": {},
     "output_type": "execute_result"
    }
   ],
   "source": [
    "A = np.matrix([[2,1,1,1],[160,4,12,1],[18,3,-3,1]])\n",
    "sp.Matrix.rref(sp.Matrix(A))"
   ]
  },
  {
   "cell_type": "markdown",
   "metadata": {},
   "source": [
    "# Aufgabe 7\n",
    "\n",
    "$$A = \\begin{pmatrix}\n",
    "1 & 1 & 1 & 80 \\\\\n",
    "10 & -18 & 0 & 0\\\\\n",
    "10 & 0 & -45 & 0\n",
    "\\end{pmatrix}\n",
    "$$\n"
   ]
  },
  {
   "cell_type": "code",
   "execution_count": 6,
   "metadata": {},
   "outputs": [],
   "source": [
    "A = np.matrix([[1,1,1,80],[10,-18,0,0],[10,0,-45,0]])"
   ]
  },
  {
   "cell_type": "code",
   "execution_count": null,
   "metadata": {},
   "outputs": [],
   "source": []
  },
  {
   "cell_type": "code",
   "execution_count": null,
   "metadata": {},
   "outputs": [],
   "source": []
  },
  {
   "cell_type": "code",
   "execution_count": null,
   "metadata": {},
   "outputs": [],
   "source": []
  },
  {
   "cell_type": "markdown",
   "metadata": {},
   "source": [
    "# Aufgabe 10"
   ]
  },
  {
   "cell_type": "code",
   "execution_count": 2,
   "metadata": {},
   "outputs": [],
   "source": [
    "A = np.matrix([[1,-2,3,-1],[2,-1,2,2],[3,1,2,3]])"
   ]
  },
  {
   "cell_type": "code",
   "execution_count": 5,
   "metadata": {},
   "outputs": [
    {
     "data": {
      "text/plain": [
       "matrix([[ 1, -2,  3, -1],\n",
       "        [ 2, -1,  2,  2],\n",
       "        [ 3,  1,  2,  3]])"
      ]
     },
     "execution_count": 5,
     "metadata": {},
     "output_type": "execute_result"
    }
   ],
   "source": [
    "# Ganze Matrix ausgeben\n",
    "A"
   ]
  },
  {
   "cell_type": "code",
   "execution_count": 6,
   "metadata": {},
   "outputs": [
    {
     "data": {
      "text/plain": [
       "matrix([[ 2, -1,  2,  2]])"
      ]
     },
     "execution_count": 6,
     "metadata": {},
     "output_type": "execute_result"
    }
   ],
   "source": [
    "# Zweite Zeile ausgeben\n",
    "A[1,:]"
   ]
  },
  {
   "cell_type": "code",
   "execution_count": 7,
   "metadata": {},
   "outputs": [
    {
     "data": {
      "text/plain": [
       "matrix([[3],\n",
       "        [2],\n",
       "        [2]])"
      ]
     },
     "execution_count": 7,
     "metadata": {},
     "output_type": "execute_result"
    }
   ],
   "source": [
    "# Dritte Spalte ausgeben\n",
    "A[:,2]"
   ]
  },
  {
   "cell_type": "code",
   "execution_count": 8,
   "metadata": {},
   "outputs": [
    {
     "data": {
      "text/plain": [
       "2"
      ]
     },
     "execution_count": 8,
     "metadata": {},
     "output_type": "execute_result"
    }
   ],
   "source": [
    "# Element A2 4 Ausgeben\n",
    "## Anmerkung: In Programmiersprachen fängt die Indexierung jeweils mit 0 an.\n",
    "A[1,3]"
   ]
  },
  {
   "cell_type": "code",
   "execution_count": 9,
   "metadata": {},
   "outputs": [
    {
     "data": {
      "text/plain": [
       "matrix([[ 1, -2,  3, -1],\n",
       "        [ 2, -1,  2,  2]])"
      ]
     },
     "execution_count": 9,
     "metadata": {},
     "output_type": "execute_result"
    }
   ],
   "source": [
    "# Matrix ohne die letzte Zeile ausgeben\n",
    "A[:-1,]"
   ]
  },
  {
   "cell_type": "markdown",
   "metadata": {},
   "source": [
    "### Hilfreiche Infos\n",
    "https://www.programiz.com/python-programming/matrix"
   ]
  },
  {
   "cell_type": "markdown",
   "metadata": {},
   "source": [
    "# Aufgabe 11"
   ]
  },
  {
   "cell_type": "markdown",
   "metadata": {},
   "source": [
    "$$B = \\begin{pmatrix}\n",
    "0 & 1 & 3 & -2 \\\\\n",
    "2 & 1 & -4 & 3\\\\\n",
    "2 & 3 & 2 & -1\n",
    "\\end{pmatrix}\n",
    "$$"
   ]
  },
  {
   "cell_type": "code",
   "execution_count": 10,
   "metadata": {},
   "outputs": [],
   "source": [
    "B = np.matrix([[0,1,3,-2], [2,1,-4,3], [2,3,2,-1]])"
   ]
  },
  {
   "cell_type": "code",
   "execution_count": 13,
   "metadata": {},
   "outputs": [
    {
     "data": {
      "text/plain": [
       "(Matrix([\n",
       " [1, 0, -7/2, 5/2],\n",
       " [0, 1,    3,  -2],\n",
       " [0, 0,    0,   0]]),\n",
       " (0, 1))"
      ]
     },
     "execution_count": 13,
     "metadata": {},
     "output_type": "execute_result"
    }
   ],
   "source": [
    "sp.Matrix.rref(sp.Matrix(B)) # Berechnet die reduzierte Zeilenstufenform"
   ]
  },
  {
   "cell_type": "markdown",
   "metadata": {},
   "source": [
    "Das letze Element der Matrix-Tupel (0, 1) gibt an, welche Zeilen nicht nur aus Nullen besteht."
   ]
  },
  {
   "cell_type": "markdown",
   "metadata": {},
   "source": [
    "# Aufgabe 12"
   ]
  },
  {
   "cell_type": "markdown",
   "metadata": {},
   "source": [
    "$$C=\n",
    "\\begin{pmatrix}\n",
    "0 & 5 & 5 & 5\\\\\n",
    "2 & 3 & 1 & 5\\\\\n",
    "3 & 2 & -1 & 6\\\\\n",
    "1 & 0 & -1 & 1\n",
    "\\end{pmatrix}\n",
    "$$"
   ]
  },
  {
   "cell_type": "markdown",
   "metadata": {},
   "source": [
    "Für diese Matrix soll nun eine Funktion geschrieben werden der die drei elementaren Zeilenumformungen implementiert und diese Matrix in Zeilenstufenform bringt.\n",
    "Für den Code wird die Vorlage des Unterrichts verwendet."
   ]
  },
  {
   "cell_type": "markdown",
   "metadata": {},
   "source": [
    "## 12a - Funktionen erstellen"
   ]
  },
  {
   "cell_type": "code",
   "execution_count": 61,
   "metadata": {},
   "outputs": [],
   "source": [
    "def skalare_multiplikation( M, zeile , skalar ):\n",
    "    \"\"\" Multipliziert die Zeile <zeile > der Matrix M mit dem Wert <skalar > und gibt das Resultat zurück.\n",
    "    \"\"\"\n",
    "    M = M.copy()\n",
    "    # IHR CODE STARTET HIER     \n",
    "    for i in M[zeile-1]:\n",
    "        i *= skalar\n",
    "    \n",
    "    return M\n",
    "    # IHR CODE ENDET HIER\n",
    "    \n",
    "def vertausche( M, zeile1 , zeile2 ):\n",
    "    \"\"\" Vertauscht die Zeile <zeile1 > der Matrix M mit der \n",
    "    Zeile <zeile2> und gibt das Resultat zurück.\"\"\"\n",
    "    M = M.copy ()\n",
    "    # IHR CODE STARTET HIER \n",
    "    D = M[zeile1-1].copy() # Erste Zeile in Dummy abspeichern\n",
    "    M[zeile1-1] = M[zeile2-1].copy() # Erste Zeile mit der Zweiten ersetzen\n",
    "    M[zeile2-1] = D.copy() # Zweite Zeile mit dem Dummy (Zeile 1) ersetzen\n",
    "    # IHR CODE ENDET HIER \n",
    "    return M\n",
    "\n",
    "def addiere( M, zeile1 , zeile2 , k ):\n",
    "    \"\"\" Addiert <k> mal die Zeile <zeile1 > zur Zeile <zeile2> dazu \n",
    "    und gibt das Resultat zurück.\"\"\"\n",
    "    M = M.copy ()\n",
    "    # IHR CODE STARTET HIER \n",
    "    D = M[zeile1-1].copy() # zeile1 in Dummy kopieren\n",
    "    D = skalare_multiplikation(D, 1, k) # zeile1 skalieren\n",
    "    \n",
    "    for i in M[zeile2-1]:\n",
    "        j = 0\n",
    "        i += D[j]\n",
    "        j += 1\n",
    "    # IHR CODE ENDET HIER \n",
    "    return M"
   ]
  },
  {
   "cell_type": "code",
   "execution_count": 37,
   "metadata": {},
   "outputs": [],
   "source": [
    "C = np.matrix([[0,5,5,5],[2,3,1,5],[3,2,-1,6],[1,0,-1,1]])"
   ]
  },
  {
   "cell_type": "code",
   "execution_count": 65,
   "metadata": {},
   "outputs": [
    {
     "name": "stdout",
     "output_type": "stream",
     "text": [
      "Das Original: \n",
      "[[ 0  5  5  5]\n",
      " [ 2  3  1  5]\n",
      " [ 3  2 -1  6]\n",
      " [ 1  0 -1  1]]\n",
      "Die Mutation:\n"
     ]
    }
   ],
   "source": [
    "print (\"Das Original: \\n\" + str(C))\n",
    "print (\"Die Mutation:\")\n",
    "# print (skalare_multiplikation(C, 3, 2))\n",
    "# print (vertausche(C, 2, 3))\n",
    "# print (addiere(C, 1,2,-1))\n"
   ]
  },
  {
   "cell_type": "markdown",
   "metadata": {},
   "source": [
    "## 12b - Gauss-Algorithmus bauen"
   ]
  },
  {
   "cell_type": "code",
   "execution_count": null,
   "metadata": {},
   "outputs": [],
   "source": []
  }
 ],
 "metadata": {
  "kernelspec": {
   "display_name": "Python 3",
   "language": "python",
   "name": "python3"
  },
  "language_info": {
   "codemirror_mode": {
    "name": "ipython",
    "version": 3
   },
   "file_extension": ".py",
   "mimetype": "text/x-python",
   "name": "python",
   "nbconvert_exporter": "python",
   "pygments_lexer": "ipython3",
   "version": "3.8.5"
  }
 },
 "nbformat": 4,
 "nbformat_minor": 4
}
