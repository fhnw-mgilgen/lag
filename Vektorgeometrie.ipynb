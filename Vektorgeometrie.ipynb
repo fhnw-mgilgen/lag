{
 "metadata": {
  "language_info": {
   "codemirror_mode": {
    "name": "ipython",
    "version": 3
   },
   "file_extension": ".py",
   "mimetype": "text/x-python",
   "name": "python",
   "nbconvert_exporter": "python",
   "pygments_lexer": "ipython3",
   "version": "3.8.5"
  },
  "orig_nbformat": 2,
  "kernelspec": {
   "name": "python385jvsc74a57bd0dca0ade3e726a953b501b15e8e990130d2b7799f14cfd9f4271676035ebe5511",
   "display_name": "Python 3.8.5 64-bit ('base': conda)"
  }
 },
 "nbformat": 4,
 "nbformat_minor": 2,
 "cells": [
  {
   "cell_type": "code",
   "execution_count": 1,
   "metadata": {},
   "outputs": [],
   "source": [
    "import numpy as np\n",
    "import sympy as sp\n",
    "import matplotlib.pyplot as plt"
   ]
  },
  {
   "source": [
    "# Länge von Vektoren"
   ],
   "cell_type": "markdown",
   "metadata": {}
  },
  {
   "source": [
    "$$\n",
    "\\vec{a}=\\begin{pmatrix}\n",
    "7  \\\\\n",
    "-2\\\\\n",
    "2\n",
    "\\end{pmatrix},\n",
    "\\quad\n",
    "\\vec{b}=\\begin{pmatrix}\n",
    "1  \\\\\n",
    "0\\\\\n",
    "3\n",
    "\\end{pmatrix},\n",
    "\\quad\n",
    "\\vec{c}=\\begin{pmatrix}\n",
    "5  \\\\\n",
    "-8\\\\\n",
    "-1\n",
    "\\end{pmatrix}\n",
    "$$"
   ],
   "cell_type": "markdown",
   "metadata": {}
  },
  {
   "cell_type": "code",
   "execution_count": 3,
   "metadata": {},
   "outputs": [
    {
     "output_type": "execute_result",
     "data": {
      "text/plain": [
       "7.54983443527075"
      ]
     },
     "metadata": {},
     "execution_count": 3
    }
   ],
   "source": [
    "a = np.array([[7], [-2], [2]])\n",
    "b = np.array([[1], [0], [3]])\n",
    "c = np.array([[5], [-8], [-1]])\n",
    "\n",
    "np.linalg.norm(a)"
   ]
  },
  {
   "source": [
    "# Skalarprodukt"
   ],
   "cell_type": "markdown",
   "metadata": {}
  },
  {
   "cell_type": "code",
   "execution_count": 4,
   "metadata": {},
   "outputs": [
    {
     "output_type": "execute_result",
     "data": {
      "text/plain": [
       "array([[13]])"
      ]
     },
     "metadata": {},
     "execution_count": 4
    }
   ],
   "source": [
    "np.dot(a.T, b)"
   ]
  },
  {
   "cell_type": "code",
   "execution_count": null,
   "metadata": {},
   "outputs": [],
   "source": []
  }
 ]
}