{
 "metadata": {
  "language_info": {
   "codemirror_mode": {
    "name": "ipython",
    "version": 3
   },
   "file_extension": ".py",
   "mimetype": "text/x-python",
   "name": "python",
   "nbconvert_exporter": "python",
   "pygments_lexer": "ipython3",
   "version": "3.8.5-final"
  },
  "orig_nbformat": 2,
  "kernelspec": {
   "name": "python3",
   "display_name": "Python 3.8.5 64-bit ('base': conda)",
   "metadata": {
    "interpreter": {
     "hash": "dca0ade3e726a953b501b15e8e990130d2b7799f14cfd9f4271676035ebe5511"
    }
   }
  }
 },
 "nbformat": 4,
 "nbformat_minor": 2,
 "cells": [
  {
   "source": [
    "# Matrizenmultiplikation\n",
    "\n",
    "## Theorie"
   ],
   "cell_type": "markdown",
   "metadata": {}
  },
  {
   "cell_type": "code",
   "execution_count": 2,
   "metadata": {},
   "outputs": [],
   "source": [
    "import numpy as np\n",
    "import sympy as sp\n",
    "import matplotlib.pyplot as plt"
   ]
  },
  {
   "cell_type": "code",
   "execution_count": 9,
   "metadata": {},
   "outputs": [
    {
     "output_type": "execute_result",
     "data": {
      "text/plain": [
       "array([[ 14,  32,  50,  68],\n",
       "       [ 32,  77, 122, 167]])"
      ]
     },
     "metadata": {},
     "execution_count": 9
    }
   ],
   "source": [
    "A = np.array ([[1,2,3], [4,5,6]])\n",
    "B = np.array ([[1,4,7,10], [2,5,8,11], [3,6,9,12]])\n",
    "C = np.array ([[1,0,1], [0,1,0]])\n",
    "\n",
    "# Möglichkeit 1:\n",
    "AB_1 = np.dot(A, B)\n",
    "\n",
    "# Möglichkeit 2:\n",
    "AB_2 = A.dot(B)\n",
    "\n",
    "# Möglichkeit 3: (Python >3.5)\n",
    "AB_3 = A @ B\n",
    "\n",
    "AB_3\n"
   ]
  },
  {
   "cell_type": "code",
   "execution_count": 15,
   "metadata": {},
   "outputs": [
    {
     "output_type": "execute_result",
     "data": {
      "text/plain": [
       "array([[1, 0, 3],\n",
       "       [0, 5, 0]])"
      ]
     },
     "metadata": {},
     "execution_count": 15
    }
   ],
   "source": [
    "# Elementweise Multiplikation\n",
    "AC = A * C\n",
    "\n",
    "AC\n",
    "\n",
    "# Funktioniert nicht...:\n",
    "# AB_4 = A * B\n",
    "# np.dot(A, C)"
   ]
  },
  {
   "source": [
    "## Aufgabe 9\n",
    "\\begin{vmatrix}\n",
    " x_1 + 5x_2 + 4x_3 + x_4 &= 6 \\\\\n",
    "5x_1 + 11x_2 + 8x_3 + 2_4 &= 13 \\\\\n",
    "3x_1 + 13x_2 + 11x_3 + 2x_4 &= 15 \\\\\n",
    "-x_1 + x_2 + x_3 + x_4 &= 1 \\\\\n",
    "\\end{vmatrix}"
   ],
   "cell_type": "markdown",
   "metadata": {}
  },
  {
   "cell_type": "code",
   "execution_count": 48,
   "metadata": {},
   "outputs": [
    {
     "output_type": "stream",
     "name": "stdout",
     "text": [
      "\nA rank: 4\n"
     ]
    }
   ],
   "source": [
    "# Aufgabe a\n",
    "Ahat = np.array([ [1,5,4,1,6],\n",
    "                [5,11,8,2,13],\n",
    "                [3,13,11,2,15],\n",
    "                [-1,1,1,1,1] ])\n"
   ]
  },
  {
   "cell_type": "code",
   "execution_count": 52,
   "metadata": {},
   "outputs": [
    {
     "output_type": "execute_result",
     "data": {
      "text/plain": [
       "Matrix([\n",
       "[1, 0, 0, 0, -1/2],\n",
       "[0, 1, 0, 0,  5/2],\n",
       "[0, 0, 1, 0, -4/3],\n",
       "[0, 0, 0, 1, -2/3]])"
      ],
      "text/latex": "$\\displaystyle \\left[\\begin{matrix}1 & 0 & 0 & 0 & - \\frac{1}{2}\\\\0 & 1 & 0 & 0 & \\frac{5}{2}\\\\0 & 0 & 1 & 0 & - \\frac{4}{3}\\\\0 & 0 & 0 & 1 & - \\frac{2}{3}\\end{matrix}\\right]$"
     },
     "metadata": {},
     "execution_count": 52
    }
   ],
   "source": [
    "RZF, _ = sp.Matrix(Ahat).rref()\n",
    "RZF"
   ]
  },
  {
   "cell_type": "code",
   "execution_count": 55,
   "metadata": {},
   "outputs": [
    {
     "output_type": "stream",
     "name": "stdout",
     "text": [
      "A rank: 4\n"
     ]
    }
   ],
   "source": [
    "print (\"A rank: \" + str(Arank))"
   ]
  },
  {
   "source": [
    "## Aufgabe 10"
   ],
   "cell_type": "markdown",
   "metadata": {}
  },
  {
   "source": [
    "### a)\n",
    "$$\n",
    "A = [a_{ij}]_{1 \\leq i \\leq 2,1 \\leq j \\leq 10}\n",
    "$$\n",
    "mit \n",
    "$$\n",
    "a_{ij} = \n",
    "\\begin{cases}\n",
    "\\phantom{} i & \\text{für } i = 1\\\\\n",
    "           i^{2} & \\text{für } i = 2\n",
    "\\end{cases}\n",
    "$$\n",
    "A sei eine 2x10 Matrix\n"
   ],
   "cell_type": "markdown",
   "metadata": {}
  },
  {
   "cell_type": "code",
   "execution_count": 6,
   "metadata": {},
   "outputs": [
    {
     "output_type": "stream",
     "name": "stdout",
     "text": [
      "[[1. 1. 1. 1. 1. 1. 1. 1. 1. 1.]\n [4. 4. 4. 4. 4. 4. 4. 4. 4. 4.]]\n"
     ]
    }
   ],
   "source": [
    "A = np.zeros((2,10))\n",
    "for i in range(0,2):\n",
    "    for j in range(0,10):\n",
    "        if i == 0:\n",
    "            A[i,j] = i+1\n",
    "        else:\n",
    "            A[i,j] = (i+1)**2\n",
    "\n",
    "print (A)"
   ]
  },
  {
   "source": [
    "### b)\n",
    "$$\n",
    "B = [b_{ij}]_{1 \\leq i,j \\leq 6}\n",
    "$$\n",
    "mit \n",
    "$$\n",
    "b_{ij} = \n",
    "\\begin{cases}\n",
    "\\phantom{} \\quad 0 & \\text{für } i = j\\\\\n",
    "           i+j & \\text{für } i < j\\\\\n",
    "           i-j & \\text{für } i > j\n",
    "\\end{cases}\n",
    "$$\n",
    "\n",
    "B sei eine 6x6 Matrix"
   ],
   "cell_type": "markdown",
   "metadata": {}
  },
  {
   "cell_type": "code",
   "execution_count": 5,
   "metadata": {},
   "outputs": [
    {
     "output_type": "stream",
     "name": "stdout",
     "text": [
      "[[ 0.  3.  4.  5.  6.  7.]\n [ 1.  0.  5.  6.  7.  8.]\n [ 2.  1.  0.  7.  8.  9.]\n [ 3.  2.  1.  0.  9. 10.]\n [ 4.  3.  2.  1.  0. 11.]\n [ 5.  4.  3.  2.  1.  0.]]\n"
     ]
    }
   ],
   "source": [
    "B = np.zeros((6,6))\n",
    "\n",
    "for i in range(0,6):\n",
    "    for j in range(0,6):\n",
    "        if i == j:\n",
    "            B[i,j] = 0\n",
    "        elif i < j:\n",
    "            B[i,j] = (i+1) + (j+1)\n",
    "        else:\n",
    "            B[i,j] = (i+1) - (j+1)\n",
    "\n",
    "print (B)"
   ]
  },
  {
   "source": [
    "### c)\n",
    "$$\n",
    "C = [c_{ij}]_{1 \\leq i,j \\leq 5}\n",
    "$$\n",
    "mit \n",
    "$$\n",
    "c_{ij} = \n",
    "\\begin{cases}\n",
    "\\phantom{} 0 & \\text{für } i+j < 6\\\\\n",
    "           1 & \\text{für } i+j = 6\\\\\n",
    "           2 & \\text{für } i + j > 6\n",
    "\\end{cases}\n",
    "$$\n",
    "\n",
    "C sei eine 5x5 Matrix"
   ],
   "cell_type": "markdown",
   "metadata": {}
  },
  {
   "cell_type": "code",
   "execution_count": 9,
   "metadata": {},
   "outputs": [
    {
     "output_type": "stream",
     "name": "stdout",
     "text": [
      "[[0. 0. 0. 0. 1.]\n [0. 0. 0. 1. 2.]\n [0. 0. 1. 2. 2.]\n [0. 1. 2. 2. 2.]\n [1. 2. 2. 2. 2.]]\n"
     ]
    }
   ],
   "source": [
    "C = np.zeros((5,5))\n",
    "\n",
    "for i in range(0,5):\n",
    "    for j in range(0,5):\n",
    "        if i + j < 4:\n",
    "            C[i,j] = 0\n",
    "        elif i + j == 4:\n",
    "            C[i,j] = 1\n",
    "        else:\n",
    "            C[i,j] = 2\n",
    "\n",
    "print(C)"
   ]
  },
  {
   "source": [
    "## Aufgabe 11\n",
    "\n",
    "Aufgabe 2(e) mit Numpy:\n",
    "$$\n",
    "\\begin{pmatrix}\n",
    "1 & 2 \\\\\n",
    "0 & 1\n",
    "\\end{pmatrix}^n\n",
    "\\quad \\text{für n} \\in \\mathbb{N}\n",
    "$$\n",
    "\n",
    "$$n^{10} \\text{ = ?}$$"
   ],
   "cell_type": "markdown",
   "metadata": {}
  },
  {
   "cell_type": "code",
   "execution_count": 15,
   "metadata": {},
   "outputs": [
    {
     "output_type": "stream",
     "name": "stdout",
     "text": [
      "[[ 1 20]\n [ 0  1]]\n"
     ]
    }
   ],
   "source": [
    "A = [[1,2],[0,1]]\n",
    "Apow = np.linalg.matrix_power(A, 10)\n",
    "\n",
    "print(Apow)"
   ]
  },
  {
   "source": [
    "dasselbe mit sympy:"
   ],
   "cell_type": "markdown",
   "metadata": {}
  },
  {
   "cell_type": "code",
   "execution_count": 17,
   "metadata": {},
   "outputs": [
    {
     "output_type": "execute_result",
     "data": {
      "text/plain": [
       "Matrix([\n",
       "[1, 20],\n",
       "[0,  1]])"
      ],
      "text/latex": "$\\displaystyle \\left[\\begin{matrix}1 & 20\\\\0 & 1\\end{matrix}\\right]$"
     },
     "metadata": {},
     "execution_count": 17
    }
   ],
   "source": [
    "A = sp.Matrix([[1,2],[0,1]])\n",
    "A**10"
   ]
  },
  {
   "cell_type": "code",
   "execution_count": null,
   "metadata": {},
   "outputs": [],
   "source": []
  }
 ]
}