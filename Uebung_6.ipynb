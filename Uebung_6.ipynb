{
 "metadata": {
  "language_info": {
   "codemirror_mode": {
    "name": "ipython",
    "version": 3
   },
   "file_extension": ".py",
   "mimetype": "text/x-python",
   "name": "python",
   "nbconvert_exporter": "python",
   "pygments_lexer": "ipython3",
   "version": "3.8.5"
  },
  "orig_nbformat": 2,
  "kernelspec": {
   "name": "python385jvsc74a57bd0dca0ade3e726a953b501b15e8e990130d2b7799f14cfd9f4271676035ebe5511",
   "display_name": "Python 3.8.5 64-bit ('base': conda)"
  }
 },
 "nbformat": 4,
 "nbformat_minor": 2,
 "cells": [
  {
   "cell_type": "code",
   "execution_count": 2,
   "metadata": {},
   "outputs": [],
   "source": [
    "import numpy as np\n",
    "import sympy as sp\n",
    "import matplotlib.pyplot as plt"
   ]
  },
  {
   "source": [
    "# Übung 6\n",
    "## Aufgabe 11"
   ],
   "cell_type": "markdown",
   "metadata": {}
  },
  {
   "source": [
    "### a)\n",
    "$$\n",
    "\\vec{a}=\\begin{pmatrix}\n",
    "5\\\\ 2\\\\ 3\n",
    "\\end{pmatrix},\n",
    "\\quad\n",
    "\\vec{b}=\\begin{pmatrix}\n",
    "7\\\\ 4\\\\ 2\n",
    "\\end{pmatrix},\n",
    "\\quad\n",
    "\\vec{c}=\\begin{pmatrix}\n",
    "-2\\\\ 5\\\\ 8\n",
    "\\end{pmatrix}\n",
    "\\quad\n",
    "\\vec{d}=\\begin{pmatrix}\n",
    "-3\\\\ -2\\\\ 1\n",
    "\\end{pmatrix}\n",
    "\\quad\n",
    "\\vec{e}=\\begin{pmatrix}\n",
    "0\\\\ 1\\\\ 0\n",
    "\\end{pmatrix}\n",
    "$$"
   ],
   "cell_type": "markdown",
   "metadata": {}
  },
  {
   "cell_type": "code",
   "execution_count": 13,
   "metadata": {},
   "outputs": [
    {
     "output_type": "execute_result",
     "data": {
      "text/plain": [
       "array([[12],\n",
       "       [ 6],\n",
       "       [ 5]])"
      ]
     },
     "metadata": {},
     "execution_count": 13
    }
   ],
   "source": [
    "a = np.array([[5], [2], [3]])\n",
    "b = np.array([[7], [4], [2]])\n",
    "c = np.array([[-2], [5], [8]])\n",
    "d = np.array([[-3], [-2], [1]])\n",
    "e = np.array([[0], [1], [0]])\n",
    "\n",
    "a+b"
   ]
  },
  {
   "cell_type": "code",
   "execution_count": 14,
   "metadata": {},
   "outputs": [
    {
     "output_type": "execute_result",
     "data": {
      "text/plain": [
       "array([[ 4],\n",
       "       [13],\n",
       "       [ 6]])"
      ]
     },
     "metadata": {},
     "execution_count": 14
    }
   ],
   "source": [
    "c-(2*d - 4*e)"
   ]
  },
  {
   "cell_type": "code",
   "execution_count": 15,
   "metadata": {},
   "outputs": [
    {
     "output_type": "execute_result",
     "data": {
      "text/plain": [
       "array([[-2],\n",
       "       [ 5],\n",
       "       [ 8]])"
      ]
     },
     "metadata": {},
     "execution_count": 15
    }
   ],
   "source": [
    "a + (b-a) + (c-b)"
   ]
  },
  {
   "source": [
    "### b)"
   ],
   "cell_type": "markdown",
   "metadata": {}
  },
  {
   "cell_type": "code",
   "execution_count": null,
   "metadata": {},
   "outputs": [],
   "source": [
    "k, x, y, z = sp.symbols('k x y z', real=True)\n"
   ]
  }
 ]
}