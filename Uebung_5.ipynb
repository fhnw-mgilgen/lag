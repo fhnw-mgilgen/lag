{
 "metadata": {
  "language_info": {
   "codemirror_mode": {
    "name": "ipython",
    "version": 3
   },
   "file_extension": ".py",
   "mimetype": "text/x-python",
   "name": "python",
   "nbconvert_exporter": "python",
   "pygments_lexer": "ipython3",
   "version": "3.8.5-final"
  },
  "orig_nbformat": 2,
  "kernelspec": {
   "name": "python3",
   "display_name": "Python 3.8.5 64-bit ('base': conda)",
   "metadata": {
    "interpreter": {
     "hash": "dca0ade3e726a953b501b15e8e990130d2b7799f14cfd9f4271676035ebe5511"
    }
   }
  }
 },
 "nbformat": 4,
 "nbformat_minor": 2,
 "cells": [
  {
   "cell_type": "code",
   "execution_count": 6,
   "metadata": {},
   "outputs": [],
   "source": [
    "import numpy as np\n",
    "import sympy as sp\n",
    "import matplotlib.pyplot as plt"
   ]
  },
  {
   "source": [
    "# Matrizenkalkühl\n",
    "## Aufgabe 6\n",
    "\n",
    "$A = \\begin{pmatrix}\n",
    "-3 & 7 & 2 & 12\\\\\n",
    "10 & 5 & -1 & 2\\\\\n",
    "-6 & 4 & 3 & 20\\\\\n",
    "5 & 5 & 6 & -3\\\\\n",
    "\\end{pmatrix}\n",
    "\\qquad\n",
    "B = \\begin{pmatrix}\n",
    "1 & -1 & 0 & 7\\\\\n",
    "2 & 0 & 2 & 2\\\\\n",
    "-1 & 7 & 4 & 5\\\\\n",
    "6 & 1 & -4 & 3\\\\\n",
    "\\end{pmatrix}$"
   ],
   "cell_type": "markdown",
   "metadata": {}
  },
  {
   "source": [
    "\n",
    "\n"
   ],
   "cell_type": "markdown",
   "metadata": {}
  },
  {
   "cell_type": "code",
   "execution_count": 8,
   "metadata": {},
   "outputs": [
    {
     "output_type": "execute_result",
     "data": {
      "text/plain": [
       "6174.999999999997"
      ]
     },
     "metadata": {},
     "execution_count": 8
    }
   ],
   "source": [
    "## Aufgabe 6\n",
    "A = np.array([ [-3,7,2,12],[10,5,-1,2],[-6,4,3,20],[5,5,6,-3] ])\n",
    "B = np.array([ [1,-1,0,7],[2,0,2,2],[-1,7,4,5],[6,1,-4,3] ])\n",
    "\n",
    "np.linalg.det(A)"
   ]
  },
  {
   "source": [
    "# Aufgabe 7"
   ],
   "cell_type": "markdown",
   "metadata": {}
  },
  {
   "cell_type": "code",
   "execution_count": null,
   "metadata": {},
   "outputs": [],
   "source": []
  },
  {
   "cell_type": "code",
   "execution_count": null,
   "metadata": {},
   "outputs": [],
   "source": []
  },
  {
   "cell_type": "code",
   "execution_count": null,
   "metadata": {},
   "outputs": [],
   "source": []
  },
  {
   "cell_type": "code",
   "execution_count": null,
   "metadata": {},
   "outputs": [],
   "source": []
  }
 ]
}