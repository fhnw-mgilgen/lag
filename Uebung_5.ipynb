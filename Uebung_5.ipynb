{
 "metadata": {
  "language_info": {
   "codemirror_mode": {
    "name": "ipython",
    "version": 3
   },
   "file_extension": ".py",
   "mimetype": "text/x-python",
   "name": "python",
   "nbconvert_exporter": "python",
   "pygments_lexer": "ipython3",
   "version": "3.8.5"
  },
  "orig_nbformat": 2,
  "kernelspec": {
   "name": "python3",
   "display_name": "Python 3",
   "language": "python"
  }
 },
 "nbformat": 4,
 "nbformat_minor": 2,
 "cells": [
  {
   "cell_type": "code",
   "execution_count": 18,
   "metadata": {},
   "outputs": [],
   "source": [
    "import numpy as np\n",
    "import sympy as sp\n",
    "import matplotlib.pyplot as plt"
   ]
  },
  {
   "source": [
    "# Matrizenkalkühl\n",
    "## Aufgabe 4\n",
    "\n",
    "$\n",
    "T = \\begin{pmatrix}\n",
    "0,8 & 0,15 & 0,05 \\\\\n",
    "0,2 & 0,7 & 0,1 \\\\\n",
    "0,1 & 0,3 & 0,6 \\\\\n",
    "\\end{pmatrix}\n",
    "$"
   ],
   "cell_type": "markdown",
   "metadata": {}
  },
  {
   "source": [
    "ABC = np.array([ [1/3],[1/3],[1/3] ])\n",
    "T = np.array([ [0.8,0.15,0.05],[0.2,0.7,0.1],[0.1,0.3,0.6] ])\n",
    "T8 = np.linalg.matrix_power(T, 8)\n",
    "ABC_8 = np.dot(T8, ABC)\n",
    "\n",
    "ABC_8"
   ],
   "cell_type": "code",
   "metadata": {},
   "execution_count": 32,
   "outputs": [
    {
     "output_type": "execute_result",
     "data": {
      "text/plain": [
       "array([[0.33333333],\n",
       "       [0.33333333],\n",
       "       [0.33333333]])"
      ]
     },
     "metadata": {},
     "execution_count": 32
    }
   ]
  },
  {
   "source": [
    "\n",
    "## Aufgabe 6\n",
    "\n",
    "$A = \\begin{pmatrix}\n",
    "-3 & 7 & 2 & 12\\\\\n",
    "10 & 5 & -1 & 2\\\\\n",
    "-6 & 4 & 3 & 20\\\\\n",
    "5 & 5 & 6 & -3\\\\\n",
    "\\end{pmatrix}\n",
    "\\qquad\n",
    "B = \\begin{pmatrix}\n",
    "1 & -1 & 0 & 7\\\\\n",
    "2 & 0 & 2 & 2\\\\\n",
    "-1 & 7 & 4 & 5\\\\\n",
    "6 & 1 & -4 & 3\\\\\n",
    "\\end{pmatrix}$"
   ],
   "cell_type": "markdown",
   "metadata": {}
  },
  {
   "source": [
    "\n",
    "\n"
   ],
   "cell_type": "markdown",
   "metadata": {}
  },
  {
   "cell_type": "code",
   "execution_count": 8,
   "metadata": {},
   "outputs": [
    {
     "output_type": "execute_result",
     "data": {
      "text/plain": [
       "6174.999999999997"
      ]
     },
     "metadata": {},
     "execution_count": 8
    }
   ],
   "source": [
    "## Aufgabe 6\n",
    "A = np.array([ [-3,7,2,12],[10,5,-1,2],[-6,4,3,20],[5,5,6,-3] ])\n",
    "B = np.array([ [1,-1,0,7],[2,0,2,2],[-1,7,4,5],[6,1,-4,3] ])\n",
    "\n",
    "np.linalg.det(A)"
   ]
  },
  {
   "source": [
    "# Aufgabe 7"
   ],
   "cell_type": "markdown",
   "metadata": {}
  },
  {
   "cell_type": "code",
   "execution_count": null,
   "metadata": {},
   "outputs": [],
   "source": []
  },
  {
   "cell_type": "code",
   "execution_count": null,
   "metadata": {},
   "outputs": [],
   "source": []
  },
  {
   "cell_type": "code",
   "execution_count": null,
   "metadata": {},
   "outputs": [],
   "source": []
  },
  {
   "cell_type": "code",
   "execution_count": null,
   "metadata": {},
   "outputs": [],
   "source": []
  }
 ]
}